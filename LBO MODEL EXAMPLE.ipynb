{
 "cells": [
  {
   "cell_type": "markdown",
   "id": "182e46cc",
   "metadata": {},
   "source": [
    "## Paper LBO Model Example\n",
    "\n",
    "Case Study Source: <http://www.streetofwalls.com/finance-training-courses/private-equity-training/paper-lbo-model-example/>\n"
   ]
  },
  {
   "cell_type": "code",
   "execution_count": 30,
   "id": "2cd14b5b",
   "metadata": {},
   "outputs": [
    {
     "name": "stdout",
     "output_type": "stream",
     "text": [
      "Requirement already satisfied: numpy_financial in ./env/lib/python3.12/site-packages (from -r requirements.txt (line 1)) (1.0.0)\n",
      "Requirement already satisfied: polars in ./env/lib/python3.12/site-packages (from -r requirements.txt (line 2)) (0.19.9)\n",
      "Requirement already satisfied: pandas in ./env/lib/python3.12/site-packages (from -r requirements.txt (line 3)) (2.1.1)\n",
      "Collecting pyarrow (from -r requirements.txt (line 4))\n",
      "  Using cached pyarrow-13.0.0.tar.gz (1.0 MB)\n",
      "  Installing build dependencies ... \u001b[?25l\\^C\n",
      "\u001b[?25canceled\n",
      "\u001b[31mERROR: Operation cancelled by user\u001b[0m\u001b[31m\n",
      "\u001b[0m\n",
      "\u001b[1m[\u001b[0m\u001b[34;49mnotice\u001b[0m\u001b[1;39;49m]\u001b[0m\u001b[39;49m A new release of pip is available: \u001b[0m\u001b[31;49m23.2.1\u001b[0m\u001b[39;49m -> \u001b[0m\u001b[32;49m23.3\u001b[0m\n",
      "\u001b[1m[\u001b[0m\u001b[34;49mnotice\u001b[0m\u001b[1;39;49m]\u001b[0m\u001b[39;49m To update, run: \u001b[0m\u001b[32;49mpip install --upgrade pip\u001b[0m\n",
      "Note: you may need to restart the kernel to use updated packages.\n"
     ]
    }
   ],
   "source": [
    "# Install dependencies\n",
    "%pip install -r requirements.txt"
   ]
  },
  {
   "cell_type": "code",
   "execution_count": 27,
   "id": "761c5c52",
   "metadata": {},
   "outputs": [],
   "source": [
    "# import libs\n",
    "import polars as pl\n",
    "import numpy_financial as np"
   ]
  },
  {
   "cell_type": "markdown",
   "id": "6e9a4e4c",
   "metadata": {},
   "source": [
    "#### 1. Entry Assumptions\n"
   ]
  },
  {
   "cell_type": "code",
   "execution_count": 78,
   "id": "949b713d",
   "metadata": {},
   "outputs": [],
   "source": [
    "# In the case of encapsulating data,\n",
    "# why not use a class?\n",
    "entry_multiple = 5\n",
    "# As a monthly statement I guess just assume year 1 revenue/12 =  revenue per month\n",
    "rev_y1 = 100 * 1000 * 1000 / 12\n",
    "ebitda_margin = 0.4\n",
    "debt_ratio = 0.6\n",
    "equity_ratio = 0.4\n",
    "\n",
    "ebitda_y1 = rev_y1 * ebitda_margin\n",
    "price_paid = entry_multiple * ebitda_y1\n",
    "\n",
    "# Debt & Equity Assumptions\n",
    "debt = debt_ratio * price_paid\n",
    "equity = equity_ratio * price_paid\n",
    "\n",
    "# Income Statement Assumptions\n",
    "rev_growth = 1.1\n",
    "int_rate = 0.10\n",
    "tax_rate = 0.4\n",
    "capex = 0.15\n",
    "working_capital = 5 * 1000 * 1000\n",
    "d_and_a = 20 * 1000 * 1000 / 12\n",
    "\n",
    "# Project Period\n",
    "total_months = 12 * 6\n",
    "months = [month for month in range(1, total_months + 1)]"
   ]
  },
  {
   "cell_type": "markdown",
   "id": "7c4a0aab",
   "metadata": {},
   "source": [
    "#### 2. Income Statement\n"
   ]
  },
  {
   "cell_type": "markdown",
   "id": "ab8ff276",
   "metadata": {},
   "source": [
    "##### Build Income Statement Class\n"
   ]
  },
  {
   "cell_type": "code",
   "execution_count": 102,
   "id": "9185e5bb",
   "metadata": {},
   "outputs": [],
   "source": [
    "# Create the DataFrame for the income statement.\n",
    "# Instead using a spreadsheet-like left-to-right approch,\n",
    "# treating it as sans-index dataframe would be more benefitial,\n",
    "# which means a top-to-bottom vertical structure.\n",
    "\n",
    "\n",
    "class IncomeStatement:\n",
    "    def __init__(\n",
    "        self,\n",
    "        year1_rev_monthly: float or int,\n",
    "        rev_growth: float,\n",
    "        ebitda_margin: float,\n",
    "        int_rate: float,\n",
    "        tax_rate: float,\n",
    "        da: float or int,\n",
    "        debt: float,\n",
    "        total_months: int,\n",
    "    ) -> None:\n",
    "        self.year1_rev_monthly = year1_rev_monthly\n",
    "        self.rev_growth = rev_growth\n",
    "        self.ebitda_margin = ebitda_margin\n",
    "        self.int_rate = int_rate\n",
    "        self.tax_rate = tax_rate\n",
    "        self.da = da\n",
    "        self.debt = debt\n",
    "        self.total_months = total_months\n",
    "\n",
    "    def months(self) -> pl.DataFrame:\n",
    "        return pl.DataFrame(\n",
    "            data={\n",
    "                \"Month\": [f\"Month {month}\" for month in range(1, self.total_months + 1)]\n",
    "            }\n",
    "        )\n",
    "\n",
    "    def revenue(self) -> pl.DataFrame:\n",
    "        revenue = []\n",
    "        revenue_dict = {\"Revenue\": revenue}\n",
    "        month = 0\n",
    "        while month < self.total_months:\n",
    "            if len(revenue) == 0:\n",
    "                revenue.append(self.year1_rev_monthly)\n",
    "                month += 1\n",
    "            elif len(revenue) % 12 == 0:\n",
    "                revenue.append(revenue[-1] * 1.1)\n",
    "                month += 1\n",
    "            else:\n",
    "                revenue.append(revenue[-1])\n",
    "                month += 1\n",
    "\n",
    "        revenue = pl.DataFrame(data=revenue_dict)\n",
    "        return self.months().with_columns(revenue)\n",
    "\n",
    "    def ebitda(self) -> pl.DataFrame:\n",
    "        return self.revenue().with_columns(\n",
    "            (pl.col(\"Revenue\") * self.ebitda_margin).alias(\"EBITDA\")\n",
    "        )\n",
    "\n",
    "    # Assuming amortization is constant for now?\n",
    "    def ebit(self) -> pl.DataFrame:\n",
    "        return self.ebitda().with_columns((pl.col(\"EBITDA\") - self.da).alias(\"EBIT\"))\n",
    "\n",
    "    def int_exp(self) -> pl.DataFrame:\n",
    "        int_exp = debt * self.int_rate / 12\n",
    "        return self.ebit().with_columns(pl.lit(int_exp).alias(\"Interest Expense\"))\n",
    "\n",
    "    def ebt(self) -> pl.DataFrame:\n",
    "        return self.int_exp().with_columns(\n",
    "            (pl.col(\"EBIT\") - pl.col(\"Interest Expense\")).alias(\"EBT\")\n",
    "        )\n",
    "\n",
    "    def tax(self) -> pl.DataFrame:\n",
    "        return self.ebt().with_columns(\n",
    "            (pl.col(\"EBT\") * self.tax_rate).alias(\"Tax Payable\")\n",
    "        )\n",
    "\n",
    "    def net_income(self) -> pl.DataFrame:\n",
    "        return self.tax().with_columns(\n",
    "            (pl.col(\"EBT\") - pl.col(\"Tax Payable\")).alias(\"Net Income\")\n",
    "        )"
   ]
  },
  {
   "cell_type": "code",
   "execution_count": 132,
   "id": "5ec64304",
   "metadata": {},
   "outputs": [
    {
     "data": {
      "text/html": [
       "<div><style>\n",
       ".dataframe > thead > tr > th,\n",
       ".dataframe > tbody > tr > td {\n",
       "  text-align: right;\n",
       "  white-space: pre-wrap;\n",
       "}\n",
       "</style>\n",
       "<small>shape: (72, 8)</small><table border=\"1\" class=\"dataframe\"><thead><tr><th>Month</th><th>Revenue</th><th>EBITDA</th><th>EBIT</th><th>Interest Expense</th><th>EBT</th><th>Tax Payable</th><th>Net Income</th></tr><tr><td>str</td><td>f64</td><td>f64</td><td>f64</td><td>f64</td><td>f64</td><td>f64</td><td>f64</td></tr></thead><tbody><tr><td>&quot;Month 1&quot;</td><td>8333333.33</td><td>3333333.33</td><td>1666666.67</td><td>83333.33</td><td>1583333.33</td><td>633333.33</td><td>950000</td></tr><tr><td>&quot;Month 2&quot;</td><td>8333333.33</td><td>3333333.33</td><td>1666666.67</td><td>83333.33</td><td>1583333.33</td><td>633333.33</td><td>950000</td></tr><tr><td>&quot;Month 3&quot;</td><td>8333333.33</td><td>3333333.33</td><td>1666666.67</td><td>83333.33</td><td>1583333.33</td><td>633333.33</td><td>950000</td></tr><tr><td>&quot;Month 4&quot;</td><td>8333333.33</td><td>3333333.33</td><td>1666666.67</td><td>83333.33</td><td>1583333.33</td><td>633333.33</td><td>950000</td></tr><tr><td>&quot;Month 5&quot;</td><td>8333333.33</td><td>3333333.33</td><td>1666666.67</td><td>83333.33</td><td>1583333.33</td><td>633333.33</td><td>950000</td></tr><tr><td>&quot;Month 6&quot;</td><td>8333333.33</td><td>3333333.33</td><td>1666666.67</td><td>83333.33</td><td>1583333.33</td><td>633333.33</td><td>950000</td></tr><tr><td>&quot;Month 7&quot;</td><td>8333333.33</td><td>3333333.33</td><td>1666666.67</td><td>83333.33</td><td>1583333.33</td><td>633333.33</td><td>950000</td></tr><tr><td>&quot;Month 8&quot;</td><td>8333333.33</td><td>3333333.33</td><td>1666666.67</td><td>83333.33</td><td>1583333.33</td><td>633333.33</td><td>950000</td></tr><tr><td>&quot;Month 9&quot;</td><td>8333333.33</td><td>3333333.33</td><td>1666666.67</td><td>83333.33</td><td>1583333.33</td><td>633333.33</td><td>950000</td></tr><tr><td>&quot;Month 10&quot;</td><td>8333333.33</td><td>3333333.33</td><td>1666666.67</td><td>83333.33</td><td>1583333.33</td><td>633333.33</td><td>950000</td></tr><tr><td>&quot;Month 11&quot;</td><td>8333333.33</td><td>3333333.33</td><td>1666666.67</td><td>83333.33</td><td>1583333.33</td><td>633333.33</td><td>950000</td></tr><tr><td>&quot;Month 12&quot;</td><td>8333333.33</td><td>3333333.33</td><td>1666666.67</td><td>83333.33</td><td>1583333.33</td><td>633333.33</td><td>950000</td></tr><tr><td>&hellip;</td><td>&hellip;</td><td>&hellip;</td><td>&hellip;</td><td>&hellip;</td><td>&hellip;</td><td>&hellip;</td><td>&hellip;</td></tr><tr><td>&quot;Month 61&quot;</td><td>13420916.67</td><td>5368366.67</td><td>3701700</td><td>83333.33</td><td>3618366.67</td><td>1447346.67</td><td>2171020</td></tr><tr><td>&quot;Month 62&quot;</td><td>13420916.67</td><td>5368366.67</td><td>3701700</td><td>83333.33</td><td>3618366.67</td><td>1447346.67</td><td>2171020</td></tr><tr><td>&quot;Month 63&quot;</td><td>13420916.67</td><td>5368366.67</td><td>3701700</td><td>83333.33</td><td>3618366.67</td><td>1447346.67</td><td>2171020</td></tr><tr><td>&quot;Month 64&quot;</td><td>13420916.67</td><td>5368366.67</td><td>3701700</td><td>83333.33</td><td>3618366.67</td><td>1447346.67</td><td>2171020</td></tr><tr><td>&quot;Month 65&quot;</td><td>13420916.67</td><td>5368366.67</td><td>3701700</td><td>83333.33</td><td>3618366.67</td><td>1447346.67</td><td>2171020</td></tr><tr><td>&quot;Month 66&quot;</td><td>13420916.67</td><td>5368366.67</td><td>3701700</td><td>83333.33</td><td>3618366.67</td><td>1447346.67</td><td>2171020</td></tr><tr><td>&quot;Month 67&quot;</td><td>13420916.67</td><td>5368366.67</td><td>3701700</td><td>83333.33</td><td>3618366.67</td><td>1447346.67</td><td>2171020</td></tr><tr><td>&quot;Month 68&quot;</td><td>13420916.67</td><td>5368366.67</td><td>3701700</td><td>83333.33</td><td>3618366.67</td><td>1447346.67</td><td>2171020</td></tr><tr><td>&quot;Month 69&quot;</td><td>13420916.67</td><td>5368366.67</td><td>3701700</td><td>83333.33</td><td>3618366.67</td><td>1447346.67</td><td>2171020</td></tr><tr><td>&quot;Month 70&quot;</td><td>13420916.67</td><td>5368366.67</td><td>3701700</td><td>83333.33</td><td>3618366.67</td><td>1447346.67</td><td>2171020</td></tr><tr><td>&quot;Month 71&quot;</td><td>13420916.67</td><td>5368366.67</td><td>3701700</td><td>83333.33</td><td>3618366.67</td><td>1447346.67</td><td>2171020</td></tr><tr><td>&quot;Month 72&quot;</td><td>13420916.67</td><td>5368366.67</td><td>3701700</td><td>83333.33</td><td>3618366.67</td><td>1447346.67</td><td>2171020</td></tr></tbody></table></div>"
      ],
      "text/plain": [
       "shape: (72, 8)\n",
       "┌──────────┬────────────┬────────────┬────────────┬────────────┬───────────┬───────────┬───────────┐\n",
       "│ Month    ┆ Revenue    ┆ EBITDA     ┆ EBIT       ┆ Interest   ┆ EBT       ┆ Tax       ┆ Net       │\n",
       "│ ---      ┆ ---        ┆ ---        ┆ ---        ┆ Expense    ┆ ---       ┆ Payable   ┆ Income    │\n",
       "│ str      ┆ f64        ┆ f64        ┆ f64        ┆ ---        ┆ f64       ┆ ---       ┆ ---       │\n",
       "│          ┆            ┆            ┆            ┆ f64        ┆           ┆ f64       ┆ f64       │\n",
       "╞══════════╪════════════╪════════════╪════════════╪════════════╪═══════════╪═══════════╪═══════════╡\n",
       "│ Month 1  ┆ 8333333.33 ┆ 3333333.33 ┆ 1666666.67 ┆ 83333.33   ┆ 1583333.3 ┆ 633333.33 ┆ 950000    │\n",
       "│          ┆            ┆            ┆            ┆            ┆ 3         ┆           ┆           │\n",
       "│ Month 2  ┆ 8333333.33 ┆ 3333333.33 ┆ 1666666.67 ┆ 83333.33   ┆ 1583333.3 ┆ 633333.33 ┆ 950000    │\n",
       "│          ┆            ┆            ┆            ┆            ┆ 3         ┆           ┆           │\n",
       "│ Month 3  ┆ 8333333.33 ┆ 3333333.33 ┆ 1666666.67 ┆ 83333.33   ┆ 1583333.3 ┆ 633333.33 ┆ 950000    │\n",
       "│          ┆            ┆            ┆            ┆            ┆ 3         ┆           ┆           │\n",
       "│ Month 4  ┆ 8333333.33 ┆ 3333333.33 ┆ 1666666.67 ┆ 83333.33   ┆ 1583333.3 ┆ 633333.33 ┆ 950000    │\n",
       "│          ┆            ┆            ┆            ┆            ┆ 3         ┆           ┆           │\n",
       "│ …        ┆ …          ┆ …          ┆ …          ┆ …          ┆ …         ┆ …         ┆ …         │\n",
       "│ Month 69 ┆ 13420916.6 ┆ 5368366.67 ┆ 3701700    ┆ 83333.33   ┆ 3618366.6 ┆ 1447346.6 ┆ 2171020   │\n",
       "│          ┆ 7          ┆            ┆            ┆            ┆ 7         ┆ 7         ┆           │\n",
       "│ Month 70 ┆ 13420916.6 ┆ 5368366.67 ┆ 3701700    ┆ 83333.33   ┆ 3618366.6 ┆ 1447346.6 ┆ 2171020   │\n",
       "│          ┆ 7          ┆            ┆            ┆            ┆ 7         ┆ 7         ┆           │\n",
       "│ Month 71 ┆ 13420916.6 ┆ 5368366.67 ┆ 3701700    ┆ 83333.33   ┆ 3618366.6 ┆ 1447346.6 ┆ 2171020   │\n",
       "│          ┆ 7          ┆            ┆            ┆            ┆ 7         ┆ 7         ┆           │\n",
       "│ Month 72 ┆ 13420916.6 ┆ 5368366.67 ┆ 3701700    ┆ 83333.33   ┆ 3618366.6 ┆ 1447346.6 ┆ 2171020   │\n",
       "│          ┆ 7          ┆            ┆            ┆            ┆ 7         ┆ 7         ┆           │\n",
       "└──────────┴────────────┴────────────┴────────────┴────────────┴───────────┴───────────┴───────────┘"
      ]
     },
     "execution_count": 132,
     "metadata": {},
     "output_type": "execute_result"
    }
   ],
   "source": [
    "# Creating an Income Statement instance\n",
    "lbo_is = IncomeStatement(\n",
    "    rev_y1,\n",
    "    rev_growth,\n",
    "    ebitda_margin,\n",
    "    int_rate,\n",
    "    tax_rate,\n",
    "    d_and_a,\n",
    "    debt,\n",
    "    total_months,\n",
    ").net_income()\n",
    "\n",
    "lbo_is = lbo_is.with_columns(pl.exclude(\"Month\").round(2))\n",
    "\n",
    "# If you wish to go for the usual spreadsheet-like approach:\n",
    "# lbo = lbo.with_columns(pl.exclude(\"Month\").round(2)).transpose(include_header=True, header_name=\"Month\", column_names=\"Month\")\n",
    "lbo_is"
   ]
  },
  {
   "cell_type": "markdown",
   "id": "ca585775",
   "metadata": {},
   "source": [
    "### 4. CALCULATE CUMULATIVE LEVERED FREE CASH FLOW (FCF)\n"
   ]
  },
  {
   "cell_type": "code",
   "execution_count": 14,
   "id": "53fc30c4",
   "metadata": {},
   "outputs": [
    {
     "data": {
      "text/html": [
       "<div>\n",
       "<style scoped>\n",
       "    .dataframe tbody tr th:only-of-type {\n",
       "        vertical-align: middle;\n",
       "    }\n",
       "\n",
       "    .dataframe tbody tr th {\n",
       "        vertical-align: top;\n",
       "    }\n",
       "\n",
       "    .dataframe thead th {\n",
       "        text-align: right;\n",
       "    }\n",
       "</style>\n",
       "<table border=\"1\" class=\"dataframe\">\n",
       "  <thead>\n",
       "    <tr style=\"text-align: right;\">\n",
       "      <th></th>\n",
       "      <th>1</th>\n",
       "      <th>2</th>\n",
       "      <th>3</th>\n",
       "      <th>4</th>\n",
       "      <th>5</th>\n",
       "      <th>6</th>\n",
       "    </tr>\n",
       "  </thead>\n",
       "  <tbody>\n",
       "    <tr>\n",
       "      <th>Earnings</th>\n",
       "      <td>NaN</td>\n",
       "      <td>NaN</td>\n",
       "      <td>NaN</td>\n",
       "      <td>NaN</td>\n",
       "      <td>NaN</td>\n",
       "      <td>NaN</td>\n",
       "    </tr>\n",
       "    <tr>\n",
       "      <th>plus: D&amp;A</th>\n",
       "      <td>NaN</td>\n",
       "      <td>NaN</td>\n",
       "      <td>NaN</td>\n",
       "      <td>NaN</td>\n",
       "      <td>NaN</td>\n",
       "      <td>NaN</td>\n",
       "    </tr>\n",
       "    <tr>\n",
       "      <th>less: capex</th>\n",
       "      <td>NaN</td>\n",
       "      <td>NaN</td>\n",
       "      <td>NaN</td>\n",
       "      <td>NaN</td>\n",
       "      <td>NaN</td>\n",
       "      <td>NaN</td>\n",
       "    </tr>\n",
       "    <tr>\n",
       "      <th>less: NWC</th>\n",
       "      <td>NaN</td>\n",
       "      <td>NaN</td>\n",
       "      <td>NaN</td>\n",
       "      <td>NaN</td>\n",
       "      <td>NaN</td>\n",
       "      <td>NaN</td>\n",
       "    </tr>\n",
       "    <tr>\n",
       "      <th>FCF</th>\n",
       "      <td>NaN</td>\n",
       "      <td>NaN</td>\n",
       "      <td>NaN</td>\n",
       "      <td>NaN</td>\n",
       "      <td>NaN</td>\n",
       "      <td>NaN</td>\n",
       "    </tr>\n",
       "  </tbody>\n",
       "</table>\n",
       "</div>"
      ],
      "text/plain": [
       "               1    2    3    4    5    6\n",
       "Earnings     NaN  NaN  NaN  NaN  NaN  NaN\n",
       "plus: D&A    NaN  NaN  NaN  NaN  NaN  NaN\n",
       "less: capex  NaN  NaN  NaN  NaN  NaN  NaN\n",
       "less: NWC    NaN  NaN  NaN  NaN  NaN  NaN\n",
       "FCF          NaN  NaN  NaN  NaN  NaN  NaN"
      ]
     },
     "execution_count": 14,
     "metadata": {},
     "output_type": "execute_result"
    }
   ],
   "source": [
    "# Create the DataFrame for the Free Cash Flow\n",
    "\n",
    "lbo_fcf = pd.DataFrame(\n",
    "    data=None,\n",
    "    index=[\"Earnings\", \"plus: D&A\", \"less: capex\", \"less: NWC\", \"FCF\"],\n",
    "    columns=years,\n",
    ")\n",
    "lbo_fcf"
   ]
  },
  {
   "cell_type": "markdown",
   "id": "8e752b89",
   "metadata": {},
   "source": [
    "#### Preparing Free Cash Flow\n",
    "\n",
    "    (NOTE: We do not need Year 6 capital expenditures, or Free Cash Flow for that matter,\n",
    "     because EBITDA does not incorporate capex and because only FCF in Years 1-5 can be used to pay down debt.)\n",
    "\n",
    "     Calcs step:\n",
    "\n",
    "     1. Start with EBT (Tax-effected) and then add back non-cash expenses (D&A).\n",
    "     2. Add D&A to EBT\n",
    "     3. Subtract capital expenditures (Capex).\n",
    "     4. Subtract the annual increase in operating working capital to get to Free Cash Flow (FCF).\n",
    "     5. Calculate Cumulative Free Cash Flow during the life of the LBO by adding FCF year-to-year\n"
   ]
  },
  {
   "cell_type": "code",
   "execution_count": 15,
   "id": "2f92c8e7",
   "metadata": {},
   "outputs": [
    {
     "data": {
      "text/html": [
       "<div>\n",
       "<style scoped>\n",
       "    .dataframe tbody tr th:only-of-type {\n",
       "        vertical-align: middle;\n",
       "    }\n",
       "\n",
       "    .dataframe tbody tr th {\n",
       "        vertical-align: top;\n",
       "    }\n",
       "\n",
       "    .dataframe thead th {\n",
       "        text-align: right;\n",
       "    }\n",
       "</style>\n",
       "<table border=\"1\" class=\"dataframe\">\n",
       "  <thead>\n",
       "    <tr style=\"text-align: right;\">\n",
       "      <th></th>\n",
       "      <th>1</th>\n",
       "      <th>2</th>\n",
       "      <th>3</th>\n",
       "      <th>4</th>\n",
       "      <th>5</th>\n",
       "      <th>6</th>\n",
       "    </tr>\n",
       "  </thead>\n",
       "  <tbody>\n",
       "    <tr>\n",
       "      <th>Earnings</th>\n",
       "      <td>4.8</td>\n",
       "      <td>7.2</td>\n",
       "      <td>9.84</td>\n",
       "      <td>12.744</td>\n",
       "      <td>15.9384</td>\n",
       "      <td>19.45224</td>\n",
       "    </tr>\n",
       "    <tr>\n",
       "      <th>plus: D&amp;A</th>\n",
       "      <td>20</td>\n",
       "      <td>20</td>\n",
       "      <td>20</td>\n",
       "      <td>20</td>\n",
       "      <td>20</td>\n",
       "      <td>20</td>\n",
       "    </tr>\n",
       "    <tr>\n",
       "      <th>less: capex</th>\n",
       "      <td>-15.0</td>\n",
       "      <td>-16.5</td>\n",
       "      <td>-18.15</td>\n",
       "      <td>-19.965</td>\n",
       "      <td>-21.9615</td>\n",
       "      <td>-24.15765</td>\n",
       "    </tr>\n",
       "    <tr>\n",
       "      <th>less: NWC</th>\n",
       "      <td>-5</td>\n",
       "      <td>-5</td>\n",
       "      <td>-5</td>\n",
       "      <td>-5</td>\n",
       "      <td>-5</td>\n",
       "      <td>-5</td>\n",
       "    </tr>\n",
       "    <tr>\n",
       "      <th>FCF</th>\n",
       "      <td>4.8</td>\n",
       "      <td>5.7</td>\n",
       "      <td>6.69</td>\n",
       "      <td>7.779</td>\n",
       "      <td>8.9769</td>\n",
       "      <td>10.29459</td>\n",
       "    </tr>\n",
       "  </tbody>\n",
       "</table>\n",
       "</div>"
      ],
      "text/plain": [
       "                1     2      3       4        5         6\n",
       "Earnings      4.8   7.2   9.84  12.744  15.9384  19.45224\n",
       "plus: D&A      20    20     20      20       20        20\n",
       "less: capex -15.0 -16.5 -18.15 -19.965 -21.9615 -24.15765\n",
       "less: NWC      -5    -5     -5      -5       -5        -5\n",
       "FCF           4.8   5.7   6.69   7.779   8.9769  10.29459"
      ]
     },
     "execution_count": 15,
     "metadata": {},
     "output_type": "execute_result"
    }
   ],
   "source": [
    "lbo_fcf.loc[\"Earnings\"] = lbo_is.loc[\"Earnings\"]\n",
    "lbo_fcf.loc[\"plus: D&A\"] = -lbo_is.loc[\"less: D&A\"]\n",
    "lbo_fcf.loc[\"less: capex\"] = lbo_is.loc[\"Rev\"] * -is_ass[\"capex % of rev\"]\n",
    "lbo_fcf.loc[\"less: NWC\"] = -is_ass[\"change_in_NWC\"]\n",
    "lbo_fcf.loc[\"FCF\"] = lbo_fcf.loc[\n",
    "    [\"Earnings\", \"plus: D&A\", \"less: capex\", \"less: NWC\"]\n",
    "].sum()\n",
    "lbo_fcf"
   ]
  },
  {
   "cell_type": "code",
   "execution_count": 16,
   "id": "c70c09b2",
   "metadata": {},
   "outputs": [
    {
     "data": {
      "text/plain": [
       "33.94590000000002"
      ]
     },
     "execution_count": 16,
     "metadata": {},
     "output_type": "execute_result"
    }
   ],
   "source": [
    "# Calculate Cumulative Free Cash Flow during the life of the LBO by adding FCF year-to-year\n",
    "\n",
    "cumulative_fcf = lbo_fcf[[1, 2, 3, 4, 5]].loc[\"FCF\"].sum()\n",
    "cumulative_fcf"
   ]
  },
  {
   "cell_type": "markdown",
   "id": "dc55eba8",
   "metadata": {},
   "source": [
    "### CALCULATE ENDING PURCHASE PRICE (EXIT VALUE) AND RETURNS\n",
    "\n",
    "Cals steps:\n",
    "\n",
    "        1. Calculate Total Enterprise Value (TEV) at Exit: Take Forward EBITDA at exit (Year 6 EBITDA) along\n",
    "           with a 5.0x exit multiple to calculate Exit TEV.\n",
    "        2. Calculate Net Debt at Exit (also known as Ending Debt):\n",
    "           Beginning Debt – Debt Pay-down = Ending Debt.\n",
    "           Beginning Debt – Cumulative FCF = Ending Debt\n",
    "\n",
    "        3. Calculate ending Equity Value (EV) by subtracting Ending Debt from Exit TEV.\n",
    "        4. Calculate the Multiple-of-Money (MoM) EV return (Ending EV ÷ Beginning EV).\n"
   ]
  },
  {
   "cell_type": "code",
   "execution_count": 17,
   "id": "7809aff6",
   "metadata": {},
   "outputs": [
    {
     "data": {
      "text/plain": [
       "{'exit_EBITDA': 64.42040000000004,\n",
       " 'exit_multiple': 5,\n",
       " 'beginning_debt': 120.0,\n",
       " 'cumulative_FCF': 33.94590000000002}"
      ]
     },
     "execution_count": 17,
     "metadata": {},
     "output_type": "execute_result"
    }
   ],
   "source": [
    "exit_returns = {\n",
    "    \"exit_EBITDA\": lbo_is[6].loc[\"EBITDA\"],\n",
    "    \"exit_multiple\": entry_ass[\"entry_multiple\"],\n",
    "    \"beginning_debt\": entry_ass[\"debt_portion\"],\n",
    "    \"cumulative_FCF\": cumulative_fcf,\n",
    "}\n",
    "exit_returns"
   ]
  },
  {
   "cell_type": "code",
   "execution_count": 18,
   "id": "24187c87",
   "metadata": {},
   "outputs": [
    {
     "data": {
      "text/plain": [
       "{'exit_EBITDA': 64.42040000000004,\n",
       " 'exit_multiple': 5,\n",
       " 'beginning_debt': 120.0,\n",
       " 'cumulative_FCF': 33.94590000000002,\n",
       " 'exit_TEV': 322.1020000000002,\n",
       " 'ending_debt': 86.05409999999998,\n",
       " 'ending_equity': 236.04790000000023,\n",
       " 'MoM': 2.950598750000003}"
      ]
     },
     "execution_count": 18,
     "metadata": {},
     "output_type": "execute_result"
    }
   ],
   "source": [
    "exit_returns[\"exit_TEV\"] = exit_returns[\"exit_EBITDA\"] * exit_returns[\"exit_multiple\"]\n",
    "exit_returns[\"ending_debt\"] = (\n",
    "    exit_returns[\"beginning_debt\"] - exit_returns[\"cumulative_FCF\"]\n",
    ")\n",
    "exit_returns[\"ending_equity\"] = exit_returns[\"exit_TEV\"] - exit_returns[\"ending_debt\"]\n",
    "exit_returns[\"MoM\"] = exit_returns[\"ending_equity\"] / entry_ass[\"equity_portion\"]\n",
    "exit_returns"
   ]
  },
  {
   "cell_type": "markdown",
   "id": "b5e4abd3",
   "metadata": {},
   "source": [
    "### Estimate IRR based on the MoM multiple.\n",
    "\n",
    "    The following table is useful for estimating IRR based upon 5-year MoM multiples:\n",
    "    2.0x MoM over 5 years ~15% IRR\n",
    "    2.5x MoM over 5 years ~20% IRR\n",
    "    3.0x MoM over 5 years ~25% IRR\n",
    "    3.7x MoM over 5 years ~30% IRR\n",
    "\n",
    "    Therefore, we can assume that the implied IRR for the paper LBO case study is approximately 25%, or slightly below\n"
   ]
  },
  {
   "cell_type": "code",
   "execution_count": null,
   "id": "9d413d2f",
   "metadata": {},
   "outputs": [],
   "source": []
  }
 ],
 "metadata": {
  "kernelspec": {
   "display_name": "Python 3 (ipykernel)",
   "language": "python",
   "name": "python3"
  },
  "language_info": {
   "codemirror_mode": {
    "name": "ipython",
    "version": 3
   },
   "file_extension": ".py",
   "mimetype": "text/x-python",
   "name": "python",
   "nbconvert_exporter": "python",
   "pygments_lexer": "ipython3",
   "version": "3.12.0"
  }
 },
 "nbformat": 4,
 "nbformat_minor": 5
}

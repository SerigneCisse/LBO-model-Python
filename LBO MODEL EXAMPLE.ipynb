{
 "cells": [
  {
   "cell_type": "markdown",
   "id": "182e46cc",
   "metadata": {},
   "source": [
    "## Paper LBO Model Example\n",
    "\n",
    "Case Study Source: <http://www.streetofwalls.com/finance-training-courses/private-equity-training/paper-lbo-model-example/>\n"
   ]
  },
  {
   "cell_type": "code",
   "execution_count": 30,
   "id": "2cd14b5b",
   "metadata": {},
   "outputs": [
    {
     "name": "stdout",
     "output_type": "stream",
     "text": [
      "Requirement already satisfied: numpy_financial in ./env/lib/python3.12/site-packages (from -r requirements.txt (line 1)) (1.0.0)\n",
      "Requirement already satisfied: polars in ./env/lib/python3.12/site-packages (from -r requirements.txt (line 2)) (0.19.9)\n",
      "Requirement already satisfied: pandas in ./env/lib/python3.12/site-packages (from -r requirements.txt (line 3)) (2.1.1)\n",
      "Collecting pyarrow (from -r requirements.txt (line 4))\n",
      "  Using cached pyarrow-13.0.0.tar.gz (1.0 MB)\n",
      "  Installing build dependencies ... \u001b[?25l\\^C\n",
      "\u001b[?25canceled\n",
      "\u001b[31mERROR: Operation cancelled by user\u001b[0m\u001b[31m\n",
      "\u001b[0m\n",
      "\u001b[1m[\u001b[0m\u001b[34;49mnotice\u001b[0m\u001b[1;39;49m]\u001b[0m\u001b[39;49m A new release of pip is available: \u001b[0m\u001b[31;49m23.2.1\u001b[0m\u001b[39;49m -> \u001b[0m\u001b[32;49m23.3\u001b[0m\n",
      "\u001b[1m[\u001b[0m\u001b[34;49mnotice\u001b[0m\u001b[1;39;49m]\u001b[0m\u001b[39;49m To update, run: \u001b[0m\u001b[32;49mpip install --upgrade pip\u001b[0m\n",
      "Note: you may need to restart the kernel to use updated packages.\n"
     ]
    }
   ],
   "source": [
    "# Install dependencies\n",
    "%pip install -r requirements.txt"
   ]
  },
  {
   "cell_type": "code",
   "execution_count": 27,
   "id": "761c5c52",
   "metadata": {},
   "outputs": [],
   "source": [
    "# import libs\n",
    "import polars as pl\n",
    "import numpy_financial as np"
   ]
  },
  {
   "cell_type": "markdown",
   "id": "6e9a4e4c",
   "metadata": {},
   "source": [
    "#### 1. Entry Assumptions\n"
   ]
  },
  {
   "cell_type": "code",
   "execution_count": 335,
   "id": "949b713d",
   "metadata": {},
   "outputs": [],
   "source": [
    "# In the case of encapsulating data,\n",
    "# why not use a class?\n",
    "entry_multiple = 5\n",
    "# As a monthly statement I guess just assume year 1 revenue/12 =  revenue per month\n",
    "# rev_y1 = 100 * 1000 * 1000 / 12\n",
    "rev_y1 = 100\n",
    "rev_y1_monthly = rev_y1 / 12\n",
    "ebitda_margin = 0.4\n",
    "debt_ratio = 0.6\n",
    "equity_ratio = 0.4\n",
    "\n",
    "ebitda_y1 = rev_y1 * ebitda_margin\n",
    "price_paid = entry_multiple * ebitda_y1\n",
    "\n",
    "# Debt & Equity Assumptions\n",
    "debt = debt_ratio * price_paid\n",
    "equity = equity_ratio * price_paid\n",
    "\n",
    "# Income Statement Assumptions\n",
    "rev_growth = 1.1\n",
    "int_rate = 0.10\n",
    "tax_rate = 0.4\n",
    "capex_rate = 0.15\n",
    "# working_capital = 5 * 1000 * 1000 / 12\n",
    "# d_and_a = 20 * 1000 * 1000 / 12\n",
    "working_capital = 5 / 12\n",
    "d_and_a = 20 / 12\n",
    "\n",
    "# Project Period\n",
    "total_months = 12 * 6\n",
    "months = [month for month in range(1, total_months + 1)]"
   ]
  },
  {
   "cell_type": "markdown",
   "id": "7c4a0aab",
   "metadata": {},
   "source": [
    "#### 2. Income Statement\n"
   ]
  },
  {
   "cell_type": "markdown",
   "id": "ab8ff276",
   "metadata": {},
   "source": [
    "##### Build Income Statement Class:\n"
   ]
  },
  {
   "cell_type": "code",
   "execution_count": 336,
   "id": "9185e5bb",
   "metadata": {},
   "outputs": [],
   "source": [
    "# Create the DataFrame for the income statement.\n",
    "# Instead using a spreadsheet-like left-to-right approch,\n",
    "# treating it as sans-index dataframe would be more benefitial,\n",
    "# which means a top-to-bottom vertical structure.\n",
    "\n",
    "\n",
    "class IncomeStatement:\n",
    "    def __init__(\n",
    "        self,\n",
    "        year1_rev_monthly: float,\n",
    "        rev_growth: float,\n",
    "        ebitda_margin: float,\n",
    "        int_rate: float,\n",
    "        tax_rate: float,\n",
    "        da: float,\n",
    "        debt: float,\n",
    "        total_months: int,\n",
    "    ) -> None:\n",
    "        self.year1_rev_monthly = year1_rev_monthly\n",
    "        self.rev_growth = rev_growth\n",
    "        self.ebitda_margin = ebitda_margin\n",
    "        self.int_rate = int_rate\n",
    "        self.tax_rate = tax_rate\n",
    "        self.da = da\n",
    "        self.debt = debt\n",
    "        self.total_months = total_months\n",
    "\n",
    "    def months(self) -> pl.DataFrame:\n",
    "        return pl.DataFrame(\n",
    "            data={\n",
    "                \"Month\": [f\"Month {month}\" for month in range(1, self.total_months + 1)]\n",
    "            }\n",
    "        )\n",
    "\n",
    "    def revenue(self) -> pl.DataFrame:\n",
    "        revenue = []\n",
    "        revenue_dict = {\"Revenue\": revenue}\n",
    "        month = 0\n",
    "        while month < self.total_months:\n",
    "            if len(revenue) == 0:\n",
    "                revenue.append(self.year1_rev_monthly)\n",
    "                month += 1\n",
    "            elif len(revenue) % 12 == 0:\n",
    "                revenue.append(revenue[-1] * 1.1)\n",
    "                month += 1\n",
    "            else:\n",
    "                revenue.append(revenue[-1])\n",
    "                month += 1\n",
    "\n",
    "        revenue = pl.DataFrame(data=revenue_dict)\n",
    "        return self.months().with_columns(revenue)\n",
    "\n",
    "    def ebitda(self) -> pl.DataFrame:\n",
    "        return self.revenue().with_columns(\n",
    "            (pl.col(\"Revenue\") * self.ebitda_margin).alias(\"EBITDA\")\n",
    "        )\n",
    "\n",
    "    # Assuming amortization is constant for now?\n",
    "    def ebit(self) -> pl.DataFrame:\n",
    "        statement = self.ebitda().with_columns(\n",
    "            pl.lit(self.da).alias(\"Depreciation & Amortization\")\n",
    "        )\n",
    "        return statement.with_columns(\n",
    "            (pl.col(\"EBITDA\") - pl.col(\"Depreciation & Amortization\")).alias(\"EBIT\")\n",
    "        )\n",
    "\n",
    "    def int_exp(self) -> pl.DataFrame:\n",
    "        int_exp = self.debt * (((1 + self.int_rate) ** (1 / 12)) - 1)\n",
    "        return self.ebit().with_columns(pl.lit(int_exp).alias(\"Less: Interest Expense\"))\n",
    "\n",
    "    def ebt(self) -> pl.DataFrame:\n",
    "        return self.int_exp().with_columns(\n",
    "            (pl.col(\"EBIT\") - pl.col(\"Less: Interest Expense\")).alias(\"EBT\")\n",
    "        )\n",
    "\n",
    "    def tax(self) -> pl.DataFrame:\n",
    "        return self.ebt().with_columns(\n",
    "            (pl.col(\"EBT\") * self.tax_rate).alias(\"Less: Tax Payable\")\n",
    "        )\n",
    "\n",
    "    def net_income(self) -> pl.DataFrame:\n",
    "        return self.tax().with_columns(\n",
    "            (pl.col(\"EBT\") - pl.col(\"Less: Tax Payable\")).alias(\"Net Income\")\n",
    "        )"
   ]
  },
  {
   "cell_type": "code",
   "execution_count": 337,
   "id": "5ec64304",
   "metadata": {},
   "outputs": [
    {
     "data": {
      "text/html": [
       "<div><style>\n",
       ".dataframe > thead > tr > th,\n",
       ".dataframe > tbody > tr > td {\n",
       "  text-align: right;\n",
       "  white-space: pre-wrap;\n",
       "}\n",
       "</style>\n",
       "<small>shape: (25, 9)</small><table border=\"1\" class=\"dataframe\"><thead><tr><th>Month</th><th>Revenue</th><th>EBITDA</th><th>Depreciation &amp; Amortization</th><th>EBIT</th><th>Less: Interest Expense</th><th>EBT</th><th>Less: Tax Payable</th><th>Net Income</th></tr><tr><td>str</td><td>f64</td><td>f64</td><td>f64</td><td>f64</td><td>f64</td><td>f64</td><td>f64</td><td>f64</td></tr></thead><tbody><tr><td>&quot;Month 1&quot;</td><td>8.33</td><td>3.33</td><td>1.67</td><td>1.67</td><td>0.96</td><td>0.71</td><td>0.28</td><td>0.43</td></tr><tr><td>&quot;Month 2&quot;</td><td>8.33</td><td>3.33</td><td>1.67</td><td>1.67</td><td>0.96</td><td>0.71</td><td>0.28</td><td>0.43</td></tr><tr><td>&quot;Month 3&quot;</td><td>8.33</td><td>3.33</td><td>1.67</td><td>1.67</td><td>0.96</td><td>0.71</td><td>0.28</td><td>0.43</td></tr><tr><td>&quot;Month 4&quot;</td><td>8.33</td><td>3.33</td><td>1.67</td><td>1.67</td><td>0.96</td><td>0.71</td><td>0.28</td><td>0.43</td></tr><tr><td>&quot;Month 5&quot;</td><td>8.33</td><td>3.33</td><td>1.67</td><td>1.67</td><td>0.96</td><td>0.71</td><td>0.28</td><td>0.43</td></tr><tr><td>&quot;Month 6&quot;</td><td>8.33</td><td>3.33</td><td>1.67</td><td>1.67</td><td>0.96</td><td>0.71</td><td>0.28</td><td>0.43</td></tr><tr><td>&quot;Month 7&quot;</td><td>8.33</td><td>3.33</td><td>1.67</td><td>1.67</td><td>0.96</td><td>0.71</td><td>0.28</td><td>0.43</td></tr><tr><td>&quot;Month 8&quot;</td><td>8.33</td><td>3.33</td><td>1.67</td><td>1.67</td><td>0.96</td><td>0.71</td><td>0.28</td><td>0.43</td></tr><tr><td>&quot;Month 9&quot;</td><td>8.33</td><td>3.33</td><td>1.67</td><td>1.67</td><td>0.96</td><td>0.71</td><td>0.28</td><td>0.43</td></tr><tr><td>&quot;Month 10&quot;</td><td>8.33</td><td>3.33</td><td>1.67</td><td>1.67</td><td>0.96</td><td>0.71</td><td>0.28</td><td>0.43</td></tr><tr><td>&quot;Month 11&quot;</td><td>8.33</td><td>3.33</td><td>1.67</td><td>1.67</td><td>0.96</td><td>0.71</td><td>0.28</td><td>0.43</td></tr><tr><td>&quot;Month 12&quot;</td><td>8.33</td><td>3.33</td><td>1.67</td><td>1.67</td><td>0.96</td><td>0.71</td><td>0.28</td><td>0.43</td></tr><tr><td>&quot;Month 13&quot;</td><td>9.17</td><td>3.67</td><td>1.67</td><td>2</td><td>0.96</td><td>1.04</td><td>0.42</td><td>0.63</td></tr><tr><td>&quot;Month 14&quot;</td><td>9.17</td><td>3.67</td><td>1.67</td><td>2</td><td>0.96</td><td>1.04</td><td>0.42</td><td>0.63</td></tr><tr><td>&quot;Month 15&quot;</td><td>9.17</td><td>3.67</td><td>1.67</td><td>2</td><td>0.96</td><td>1.04</td><td>0.42</td><td>0.63</td></tr><tr><td>&quot;Month 16&quot;</td><td>9.17</td><td>3.67</td><td>1.67</td><td>2</td><td>0.96</td><td>1.04</td><td>0.42</td><td>0.63</td></tr><tr><td>&quot;Month 17&quot;</td><td>9.17</td><td>3.67</td><td>1.67</td><td>2</td><td>0.96</td><td>1.04</td><td>0.42</td><td>0.63</td></tr><tr><td>&quot;Month 18&quot;</td><td>9.17</td><td>3.67</td><td>1.67</td><td>2</td><td>0.96</td><td>1.04</td><td>0.42</td><td>0.63</td></tr><tr><td>&quot;Month 19&quot;</td><td>9.17</td><td>3.67</td><td>1.67</td><td>2</td><td>0.96</td><td>1.04</td><td>0.42</td><td>0.63</td></tr><tr><td>&quot;Month 20&quot;</td><td>9.17</td><td>3.67</td><td>1.67</td><td>2</td><td>0.96</td><td>1.04</td><td>0.42</td><td>0.63</td></tr><tr><td>&quot;Month 21&quot;</td><td>9.17</td><td>3.67</td><td>1.67</td><td>2</td><td>0.96</td><td>1.04</td><td>0.42</td><td>0.63</td></tr><tr><td>&quot;Month 22&quot;</td><td>9.17</td><td>3.67</td><td>1.67</td><td>2</td><td>0.96</td><td>1.04</td><td>0.42</td><td>0.63</td></tr><tr><td>&quot;Month 23&quot;</td><td>9.17</td><td>3.67</td><td>1.67</td><td>2</td><td>0.96</td><td>1.04</td><td>0.42</td><td>0.63</td></tr><tr><td>&quot;Month 24&quot;</td><td>9.17</td><td>3.67</td><td>1.67</td><td>2</td><td>0.96</td><td>1.04</td><td>0.42</td><td>0.63</td></tr><tr><td>&quot;Month 25&quot;</td><td>10.08</td><td>4.03</td><td>1.67</td><td>2.37</td><td>0.96</td><td>1.41</td><td>0.56</td><td>0.85</td></tr></tbody></table></div>"
      ],
      "text/plain": [
       "shape: (25, 9)\n",
       "┌──────────┬─────────┬────────┬────────────────┬───┬──────────┬──────┬───────────┬────────────┐\n",
       "│ Month    ┆ Revenue ┆ EBITDA ┆ Depreciation & ┆ … ┆ Less:    ┆ EBT  ┆ Less: Tax ┆ Net Income │\n",
       "│ ---      ┆ ---     ┆ ---    ┆ Amortization   ┆   ┆ Interest ┆ ---  ┆ Payable   ┆ ---        │\n",
       "│ str      ┆ f64     ┆ f64    ┆ ---            ┆   ┆ Expense  ┆ f64  ┆ ---       ┆ f64        │\n",
       "│          ┆         ┆        ┆ f64            ┆   ┆ ---      ┆      ┆ f64       ┆            │\n",
       "│          ┆         ┆        ┆                ┆   ┆ f64      ┆      ┆           ┆            │\n",
       "╞══════════╪═════════╪════════╪════════════════╪═══╪══════════╪══════╪═══════════╪════════════╡\n",
       "│ Month 1  ┆ 8.33    ┆ 3.33   ┆ 1.67           ┆ … ┆ 0.96     ┆ 0.71 ┆ 0.28      ┆ 0.43       │\n",
       "│ Month 2  ┆ 8.33    ┆ 3.33   ┆ 1.67           ┆ … ┆ 0.96     ┆ 0.71 ┆ 0.28      ┆ 0.43       │\n",
       "│ Month 3  ┆ 8.33    ┆ 3.33   ┆ 1.67           ┆ … ┆ 0.96     ┆ 0.71 ┆ 0.28      ┆ 0.43       │\n",
       "│ Month 4  ┆ 8.33    ┆ 3.33   ┆ 1.67           ┆ … ┆ 0.96     ┆ 0.71 ┆ 0.28      ┆ 0.43       │\n",
       "│ …        ┆ …       ┆ …      ┆ …              ┆ … ┆ …        ┆ …    ┆ …         ┆ …          │\n",
       "│ Month 22 ┆ 9.17    ┆ 3.67   ┆ 1.67           ┆ … ┆ 0.96     ┆ 1.04 ┆ 0.42      ┆ 0.63       │\n",
       "│ Month 23 ┆ 9.17    ┆ 3.67   ┆ 1.67           ┆ … ┆ 0.96     ┆ 1.04 ┆ 0.42      ┆ 0.63       │\n",
       "│ Month 24 ┆ 9.17    ┆ 3.67   ┆ 1.67           ┆ … ┆ 0.96     ┆ 1.04 ┆ 0.42      ┆ 0.63       │\n",
       "│ Month 25 ┆ 10.08   ┆ 4.03   ┆ 1.67           ┆ … ┆ 0.96     ┆ 1.41 ┆ 0.56      ┆ 0.85       │\n",
       "└──────────┴─────────┴────────┴────────────────┴───┴──────────┴──────┴───────────┴────────────┘"
      ]
     },
     "execution_count": 337,
     "metadata": {},
     "output_type": "execute_result"
    }
   ],
   "source": [
    "# Creating an Income Statement instance\n",
    "income_statement = IncomeStatement(\n",
    "    rev_y1_monthly,\n",
    "    rev_growth,\n",
    "    ebitda_margin,\n",
    "    int_rate,\n",
    "    tax_rate,\n",
    "    d_and_a,\n",
    "    debt,\n",
    "    total_months,\n",
    ")\n",
    "\n",
    "lbo_is = (\n",
    "    income_statement.net_income().with_columns(pl.exclude(\"Month\").round(2)).head(25)\n",
    ")\n",
    "\n",
    "# If you wish to go for the usual spreadsheet-like approach:\n",
    "# lbo = lbo.with_columns(pl.exclude(\"Month\").round(2)).transpose(include_header=True, header_name=\"Month\", column_names=\"Month\")\n",
    "lbo_is"
   ]
  },
  {
   "cell_type": "markdown",
   "id": "ca585775",
   "metadata": {},
   "source": [
    "### 3. Calculate Cumulative Levered Free Cash Flow\n"
   ]
  },
  {
   "cell_type": "markdown",
   "id": "ee026b8b",
   "metadata": {},
   "source": [
    "#### Again, build a class for this:\n"
   ]
  },
  {
   "cell_type": "code",
   "execution_count": 338,
   "id": "53fc30c4",
   "metadata": {},
   "outputs": [],
   "source": [
    "class FCF:\n",
    "    def __init__(\n",
    "        self,\n",
    "        capex_rate: float,\n",
    "        working_capital: float,\n",
    "        da: float,\n",
    "        income_statement: IncomeStatement,\n",
    "    ) -> None:\n",
    "        self.income_statement = income_statement\n",
    "        self.capex_rate = capex_rate\n",
    "        self.working_capital = working_capital\n",
    "        self.da = da\n",
    "\n",
    "    def capex(self) -> pl.DataFrame:\n",
    "        statement = self.income_statement.net_income()\n",
    "        return statement.with_columns(\n",
    "            (pl.col(\"Revenue\") * self.capex_rate).alias(\"Less: Capex\")\n",
    "        )\n",
    "\n",
    "    def work_cap(self) -> pl.DataFrame:\n",
    "        statement = self.capex()\n",
    "        return statement.with_columns(\n",
    "            (pl.lit(self.working_capital).alias(\"Less: Working Capital\"))\n",
    "        )\n",
    "\n",
    "    def da_addback(self) -> pl.DataFrame:\n",
    "        statement = self.work_cap()\n",
    "        return statement.with_columns(\n",
    "            (pl.lit(self.da).alias(\"Add: Depreciation & Amortization\"))\n",
    "        )\n",
    "\n",
    "    def fcf(self) -> pl.DataFrame:\n",
    "        statement = self.da_addback()\n",
    "        return statement.with_columns(\n",
    "            (\n",
    "                pl.col(\"Net Income\")\n",
    "                + pl.col(\"Add: Depreciation & Amortization\")\n",
    "                - pl.col(\"Less: Capex\")\n",
    "                - pl.col(\"Less: Working Capital\")\n",
    "            ).alias(\"Monthly FCF\")\n",
    "        )\n",
    "\n",
    "    def fcf_only(self) -> pl.DataFrame:\n",
    "        statement = self.fcf()\n",
    "        return statement.select(\n",
    "            pl.col(\"Month\"),\n",
    "            pl.col(\"Net Income\"),\n",
    "            pl.col(\"Less: Capex\"),\n",
    "            pl.col(\"Less: Working Capital\"),\n",
    "            pl.col(\"Add: Depreciation & Amortization\"),\n",
    "            pl.col(\"Monthly FCF\"),\n",
    "        )\n",
    "\n",
    "    def cum_fcf(self) -> pl.DataFrame:\n",
    "        statement = self.fcf_only()\n",
    "        return statement.with_columns(\n",
    "            pl.col(\"Monthly FCF\").cumsum().alias(\"Cumulative FCF\")\n",
    "        )"
   ]
  },
  {
   "cell_type": "code",
   "execution_count": 343,
   "id": "42ea3fa6",
   "metadata": {},
   "outputs": [
    {
     "data": {
      "text/html": [
       "<div><style>\n",
       ".dataframe > thead > tr > th,\n",
       ".dataframe > tbody > tr > td {\n",
       "  text-align: right;\n",
       "  white-space: pre-wrap;\n",
       "}\n",
       "</style>\n",
       "<small>shape: (25, 7)</small><table border=\"1\" class=\"dataframe\"><thead><tr><th>Month</th><th>Net Income</th><th>Less: Capex</th><th>Less: Working Capital</th><th>Add: Depreciation &amp; Amortization</th><th>Monthly FCF</th><th>Cumulative FCF</th></tr><tr><td>str</td><td>f64</td><td>f64</td><td>f64</td><td>f64</td><td>f64</td><td>f64</td></tr></thead><tbody><tr><td>&quot;Month 1&quot;</td><td>0.43</td><td>1.25</td><td>0.42</td><td>1.67</td><td>0.43</td><td>0.43</td></tr><tr><td>&quot;Month 2&quot;</td><td>0.43</td><td>1.25</td><td>0.42</td><td>1.67</td><td>0.43</td><td>0.85</td></tr><tr><td>&quot;Month 3&quot;</td><td>0.43</td><td>1.25</td><td>0.42</td><td>1.67</td><td>0.43</td><td>1.28</td></tr><tr><td>&quot;Month 4&quot;</td><td>0.43</td><td>1.25</td><td>0.42</td><td>1.67</td><td>0.43</td><td>1.7</td></tr><tr><td>&quot;Month 5&quot;</td><td>0.43</td><td>1.25</td><td>0.42</td><td>1.67</td><td>0.43</td><td>2.13</td></tr><tr><td>&quot;Month 6&quot;</td><td>0.43</td><td>1.25</td><td>0.42</td><td>1.67</td><td>0.43</td><td>2.56</td></tr><tr><td>&quot;Month 7&quot;</td><td>0.43</td><td>1.25</td><td>0.42</td><td>1.67</td><td>0.43</td><td>2.98</td></tr><tr><td>&quot;Month 8&quot;</td><td>0.43</td><td>1.25</td><td>0.42</td><td>1.67</td><td>0.43</td><td>3.41</td></tr><tr><td>&quot;Month 9&quot;</td><td>0.43</td><td>1.25</td><td>0.42</td><td>1.67</td><td>0.43</td><td>3.83</td></tr><tr><td>&quot;Month 10&quot;</td><td>0.43</td><td>1.25</td><td>0.42</td><td>1.67</td><td>0.43</td><td>4.26</td></tr><tr><td>&quot;Month 11&quot;</td><td>0.43</td><td>1.25</td><td>0.42</td><td>1.67</td><td>0.43</td><td>4.68</td></tr><tr><td>&quot;Month 12&quot;</td><td>0.43</td><td>1.25</td><td>0.42</td><td>1.67</td><td>0.43</td><td>5.11</td></tr><tr><td>&quot;Month 13&quot;</td><td>0.63</td><td>1.38</td><td>0.42</td><td>1.67</td><td>0.5</td><td>5.61</td></tr><tr><td>&quot;Month 14&quot;</td><td>0.63</td><td>1.38</td><td>0.42</td><td>1.67</td><td>0.5</td><td>6.11</td></tr><tr><td>&quot;Month 15&quot;</td><td>0.63</td><td>1.38</td><td>0.42</td><td>1.67</td><td>0.5</td><td>6.61</td></tr><tr><td>&quot;Month 16&quot;</td><td>0.63</td><td>1.38</td><td>0.42</td><td>1.67</td><td>0.5</td><td>7.11</td></tr><tr><td>&quot;Month 17&quot;</td><td>0.63</td><td>1.38</td><td>0.42</td><td>1.67</td><td>0.5</td><td>7.61</td></tr><tr><td>&quot;Month 18&quot;</td><td>0.63</td><td>1.38</td><td>0.42</td><td>1.67</td><td>0.5</td><td>8.12</td></tr><tr><td>&quot;Month 19&quot;</td><td>0.63</td><td>1.38</td><td>0.42</td><td>1.67</td><td>0.5</td><td>8.62</td></tr><tr><td>&quot;Month 20&quot;</td><td>0.63</td><td>1.38</td><td>0.42</td><td>1.67</td><td>0.5</td><td>9.12</td></tr><tr><td>&quot;Month 21&quot;</td><td>0.63</td><td>1.38</td><td>0.42</td><td>1.67</td><td>0.5</td><td>9.62</td></tr><tr><td>&quot;Month 22&quot;</td><td>0.63</td><td>1.38</td><td>0.42</td><td>1.67</td><td>0.5</td><td>10.12</td></tr><tr><td>&quot;Month 23&quot;</td><td>0.63</td><td>1.38</td><td>0.42</td><td>1.67</td><td>0.5</td><td>10.62</td></tr><tr><td>&quot;Month 24&quot;</td><td>0.63</td><td>1.38</td><td>0.42</td><td>1.67</td><td>0.5</td><td>11.12</td></tr><tr><td>&quot;Month 25&quot;</td><td>0.85</td><td>1.51</td><td>0.42</td><td>1.67</td><td>0.58</td><td>11.7</td></tr></tbody></table></div>"
      ],
      "text/plain": [
       "shape: (25, 7)\n",
       "┌──────────┬────────────┬─────────────┬─────────┬──────────────────┬─────────────┬─────────────────┐\n",
       "│ Month    ┆ Net Income ┆ Less: Capex ┆ Less:   ┆ Add:             ┆ Monthly FCF ┆ Cumulative FCF  │\n",
       "│ ---      ┆ ---        ┆ ---         ┆ Working ┆ Depreciation &   ┆ ---         ┆ ---             │\n",
       "│ str      ┆ f64        ┆ f64         ┆ Capital ┆ Amortization     ┆ f64         ┆ f64             │\n",
       "│          ┆            ┆             ┆ ---     ┆ ---              ┆             ┆                 │\n",
       "│          ┆            ┆             ┆ f64     ┆ f64              ┆             ┆                 │\n",
       "╞══════════╪════════════╪═════════════╪═════════╪══════════════════╪═════════════╪═════════════════╡\n",
       "│ Month 1  ┆ 0.43       ┆ 1.25        ┆ 0.42    ┆ 1.67             ┆ 0.43        ┆ 0.43            │\n",
       "│ Month 2  ┆ 0.43       ┆ 1.25        ┆ 0.42    ┆ 1.67             ┆ 0.43        ┆ 0.85            │\n",
       "│ Month 3  ┆ 0.43       ┆ 1.25        ┆ 0.42    ┆ 1.67             ┆ 0.43        ┆ 1.28            │\n",
       "│ Month 4  ┆ 0.43       ┆ 1.25        ┆ 0.42    ┆ 1.67             ┆ 0.43        ┆ 1.7             │\n",
       "│ …        ┆ …          ┆ …           ┆ …       ┆ …                ┆ …           ┆ …               │\n",
       "│ Month 22 ┆ 0.63       ┆ 1.38        ┆ 0.42    ┆ 1.67             ┆ 0.5         ┆ 10.12           │\n",
       "│ Month 23 ┆ 0.63       ┆ 1.38        ┆ 0.42    ┆ 1.67             ┆ 0.5         ┆ 10.62           │\n",
       "│ Month 24 ┆ 0.63       ┆ 1.38        ┆ 0.42    ┆ 1.67             ┆ 0.5         ┆ 11.12           │\n",
       "│ Month 25 ┆ 0.85       ┆ 1.51        ┆ 0.42    ┆ 1.67             ┆ 0.58        ┆ 11.7            │\n",
       "└──────────┴────────────┴─────────────┴─────────┴──────────────────┴─────────────┴─────────────────┘"
      ]
     },
     "execution_count": 343,
     "metadata": {},
     "output_type": "execute_result"
    }
   ],
   "source": [
    "# Creating a free cash flow instance\n",
    "lbo_fcf = FCF(\n",
    "    capex_rate,\n",
    "    working_capital,\n",
    "    d_and_a,\n",
    "    income_statement=income_statement,\n",
    ")\n",
    "\n",
    "lbo_fcf.cum_fcf().with_columns(pl.exclude(\"Month\").round(2)).head(25)"
   ]
  },
  {
   "cell_type": "markdown",
   "id": "dc55eba8",
   "metadata": {},
   "source": [
    "# WIP TO THIS POINT\n",
    "\n",
    "### CALCULATE ENDING PURCHASE PRICE (EXIT VALUE) AND RETURNS\n",
    "\n",
    "Cals steps:\n",
    "\n",
    "        1. Calculate Total Enterprise Value (TEV) at Exit: Take Forward EBITDA at exit (Year 6 EBITDA) along\n",
    "           with a 5.0x exit multiple to calculate Exit TEV.\n",
    "        2. Calculate Net Debt at Exit (also known as Ending Debt):\n",
    "           Beginning Debt – Debt Pay-down = Ending Debt.\n",
    "           Beginning Debt – Cumulative FCF = Ending Debt\n",
    "\n",
    "        3. Calculate ending Equity Value (EV) by subtracting Ending Debt from Exit TEV.\n",
    "        4. Calculate the Multiple-of-Money (MoM) EV return (Ending EV ÷ Beginning EV).\n"
   ]
  },
  {
   "cell_type": "code",
   "execution_count": 17,
   "id": "7809aff6",
   "metadata": {},
   "outputs": [
    {
     "data": {
      "text/plain": [
       "{'exit_EBITDA': 64.42040000000004,\n",
       " 'exit_multiple': 5,\n",
       " 'beginning_debt': 120.0,\n",
       " 'cumulative_FCF': 33.94590000000002}"
      ]
     },
     "execution_count": 17,
     "metadata": {},
     "output_type": "execute_result"
    }
   ],
   "source": [
    "exit_returns = {\n",
    "    \"exit_EBITDA\": lbo_is[6].loc[\"EBITDA\"],\n",
    "    \"exit_multiple\": entry_ass[\"entry_multiple\"],\n",
    "    \"beginning_debt\": entry_ass[\"debt_portion\"],\n",
    "    \"cumulative_FCF\": cumulative_fcf,\n",
    "}\n",
    "exit_returns"
   ]
  },
  {
   "cell_type": "code",
   "execution_count": 18,
   "id": "24187c87",
   "metadata": {},
   "outputs": [
    {
     "data": {
      "text/plain": [
       "{'exit_EBITDA': 64.42040000000004,\n",
       " 'exit_multiple': 5,\n",
       " 'beginning_debt': 120.0,\n",
       " 'cumulative_FCF': 33.94590000000002,\n",
       " 'exit_TEV': 322.1020000000002,\n",
       " 'ending_debt': 86.05409999999998,\n",
       " 'ending_equity': 236.04790000000023,\n",
       " 'MoM': 2.950598750000003}"
      ]
     },
     "execution_count": 18,
     "metadata": {},
     "output_type": "execute_result"
    }
   ],
   "source": [
    "exit_returns[\"exit_TEV\"] = exit_returns[\"exit_EBITDA\"] * exit_returns[\"exit_multiple\"]\n",
    "exit_returns[\"ending_debt\"] = (\n",
    "    exit_returns[\"beginning_debt\"] - exit_returns[\"cumulative_FCF\"]\n",
    ")\n",
    "exit_returns[\"ending_equity\"] = exit_returns[\"exit_TEV\"] - exit_returns[\"ending_debt\"]\n",
    "exit_returns[\"MoM\"] = exit_returns[\"ending_equity\"] / entry_ass[\"equity_portion\"]\n",
    "exit_returns"
   ]
  },
  {
   "cell_type": "markdown",
   "id": "b5e4abd3",
   "metadata": {},
   "source": [
    "### Estimate IRR based on the MoM multiple.\n",
    "\n",
    "    The following table is useful for estimating IRR based upon 5-year MoM multiples:\n",
    "    2.0x MoM over 5 years ~15% IRR\n",
    "    2.5x MoM over 5 years ~20% IRR\n",
    "    3.0x MoM over 5 years ~25% IRR\n",
    "    3.7x MoM over 5 years ~30% IRR\n",
    "\n",
    "    Therefore, we can assume that the implied IRR for the paper LBO case study is approximately 25%, or slightly below\n"
   ]
  },
  {
   "cell_type": "code",
   "execution_count": null,
   "id": "9d413d2f",
   "metadata": {},
   "outputs": [],
   "source": []
  }
 ],
 "metadata": {
  "kernelspec": {
   "display_name": "Python 3 (ipykernel)",
   "language": "python",
   "name": "python3"
  },
  "language_info": {
   "codemirror_mode": {
    "name": "ipython",
    "version": 3
   },
   "file_extension": ".py",
   "mimetype": "text/x-python",
   "name": "python",
   "nbconvert_exporter": "python",
   "pygments_lexer": "ipython3",
   "version": "3.12.0"
  }
 },
 "nbformat": 4,
 "nbformat_minor": 5
}
